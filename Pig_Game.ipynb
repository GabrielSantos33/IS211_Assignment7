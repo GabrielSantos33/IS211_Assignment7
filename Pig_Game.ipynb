{
 "cells": [
  {
   "cell_type": "code",
   "execution_count": 10,
   "metadata": {},
   "outputs": [],
   "source": [
    "# Gabriel Santos IS-211 10/10/2020\n",
    "import random"
   ]
  },
  {
   "cell_type": "code",
   "execution_count": 11,
   "metadata": {},
   "outputs": [],
   "source": [
    "\"\"\"Die class creates the die object and seeds to 0.\"\"\"\n",
    "class Die():\n",
    "    def __init__(self):\n",
    "        self.value = 0\n",
    "\n",
    "    \"\"\"Method to roll the die returning a random int between 1 and 6\"\"\"\n",
    "    def roll(self):\n",
    "        self.value = random.randint(1,6)"
   ]
  },
  {
   "cell_type": "code",
   "execution_count": 16,
   "metadata": {},
   "outputs": [],
   "source": [
    "\"\"\"Main function instantiates 2 players, one die and one game objects.\"\"\"\n",
    "class Player():\n",
    "    def __init__(self):\n",
    "        self.turn = False\n",
    "        self.roll = True\n",
    "        self.hold = False\n",
    "        self.score = 0\n",
    "\n",
    "    \"\"\"#Method allows player to enter r or h and then sets the corresponding player attribute.  Catches invalid entry.\"\"\"\n",
    "    def Hold_or_Roll(self):\n",
    "        input = input('Enter \"h\" to HOLD or \"r\" to ROLL? ')\n",
    "        input = input.lower()\n",
    "        if input == 'h':\n",
    "            self.hold = True\n",
    "            self.roll = False\n",
    "\n",
    "        elif input == 'r':\n",
    "            self.hold = False\n",
    "            self.roll = True\n",
    "\n",
    "        else:\n",
    "            print('Invalid.  Enter \"h\" or \"r\".')\n",
    "            self.Hold_or_Roll()"
   ]
  },
  {
   "cell_type": "code",
   "execution_count": 18,
   "metadata": {},
   "outputs": [],
   "source": [
    "\"\"\"Game class executes the game for exactly 2 players and keeps score for the round and the total game score.\"\"\"\n",
    "class Game():\n",
    "    def __init__(self, player1, player2, die):\n",
    "        self.turn_score = 0\n",
    "        self.die = die\n",
    "        self.player1 = player1\n",
    "        self.player2 = player2\n",
    "        self.player1.score = 0\n",
    "        self.player2.score = 0\n",
    "        self.player1.name = \"PLAYER 1\"\n",
    "        self.player2.name = \"PLAYER 2\"\n",
    "\n",
    "\n",
    "        \"\"\"Selects a random player to start the game and then calls the turn method.\"\"\"\n",
    "        print(\"A RANDOM PLAYER WILL BE SELECTED TO START\")\n",
    "        select_player = random.randint(1, 2)\n",
    "        if select_player == 1:\n",
    "            self.current_player = player1\n",
    "            print(\"\\n\")\n",
    "            print(\"PLAYER 1 STARTS GAME.\")\n",
    "        elif select_player == 2:\n",
    "            self.current_player = player2\n",
    "            print(\"\\n\")\n",
    "            print(\"PLAYER 2 STARTS GAME\")\n",
    "        self.turn()"
   ]
  },
  {
   "cell_type": "code",
   "execution_count": 28,
   "metadata": {},
   "outputs": [],
   "source": [
    "\"\"\"Method executes the 'turn' by rolling the die and adding scores or switching to next player if 1 is rolled.\"\"\"\n",
    "def turn(self):\n",
    "    self.die.roll()  #Rolls the die.\n",
    "\n",
    "    if (self.die.value == 1):       #For rolls = 1, output and then call score_card\n",
    "        print(\"YOU ROLLED A 1. NO POINTS AWARDED. NEXT PLAYER ROLLS\") \n",
    "        print(\"Player 1 TOTAL GAME SCORE:\", self.player1.score)\n",
    "        print(\"Player 2 TOTAL GAME SCORE\", self.player2.score)\n",
    "        self.turn_score = 0\n",
    "        self.score_card()\n",
    "\n",
    "    else:\n",
    "        self.turn_score = self.turn_score + self.die.value      #For value > 1, sum the turn scores with die value.\n",
    "\n",
    "        print(\"You rolled a:\", self.die.value)\n",
    "        print(\"Your turn score is\", self.turn_score)\n",
    "        print(\"Player 1 TOTAL GAME SCORE:\", self.player1.score)\n",
    "        print(\"Player 2 TOTAL GAME SCORE:\", self.player2.score)\n",
    "\n",
    "        self.current_player.Hold_or_Roll()      #Calls method to decide whether to hold or roll\n",
    "\n",
    "        if (self.current_player.hold == True and self.current_player.roll == False): #Player selected hold\n",
    "            self.current_player.score = self.current_player.score + self.turn_score   #Scores added to total\n",
    "            self.score_card() #Resets turn score and checks totals\n",
    "\n",
    "        elif (self.current_player.hold == False and self.current_player.roll == True): #Player is rolling\n",
    "            self.turn()  #Calls this turn method to keep rolling."
   ]
  },
  {
   "cell_type": "code",
   "execution_count": 22,
   "metadata": {},
   "outputs": [],
   "source": [
    "\"\"\"Method resets turned score, ends the game and switch between players if no one has scored 100 points\"\"\"\n",
    "def score_card(self):\n",
    "    self.turn_score = 0\n",
    "    if self.player1.score >= 100:\n",
    "        print(\"PLAYER 1 WINS\")\n",
    "        print(\"Score:\"), self.player1.score\n",
    "        self.endgame()\n",
    "\n",
    "    elif self.player2.score >= 100:\n",
    "        print(\"PLAYER 2 WINS\")\n",
    "        print(\"Score:\"), self.player2.score\n",
    "        self.endgame()\n",
    "\n",
    "        \"\"\"Toggles between players if no winner and sets player as current player for the round.\"\"\"\n",
    "    else:\n",
    "        if self.current_player == self.player1:\n",
    "            self.current_player = self.player2\n",
    "        elif self.current_player == self.player2:\n",
    "            self.current_player = self.player1\n",
    "        print(\"\\n\") \n",
    "        print(self.current_player.name, \"IS NOW PLAYING\")\n",
    "        self.turn() "
   ]
  },
  {
   "cell_type": "code",
   "execution_count": 23,
   "metadata": {},
   "outputs": [],
   "source": [
    "\"\"\"Method ends the game when a player has reached 100 points.\"\"\"\n",
    "def endgame(self):\n",
    "    sys.exit()"
   ]
  },
  {
   "cell_type": "code",
   "execution_count": 29,
   "metadata": {},
   "outputs": [],
   "source": [
    "\"\"\"Main function instantiates 2 players, one die and one game objects.\"\"\"\n",
    "def main():\n",
    "    player1 = Player()\n",
    "    player2 = Player()\n",
    "    die = Die()\n",
    "    Game(player1, player2, die)"
   ]
  },
  {
   "cell_type": "code",
   "execution_count": null,
   "metadata": {},
   "outputs": [],
   "source": [
    "if __name__ == '__main__':\n",
    "    main()"
   ]
  }
 ],
 "metadata": {
  "kernelspec": {
   "display_name": "Python 3",
   "language": "python",
   "name": "python3"
  },
  "language_info": {
   "codemirror_mode": {
    "name": "ipython",
    "version": 3
   },
   "file_extension": ".py",
   "mimetype": "text/x-python",
   "name": "python",
   "nbconvert_exporter": "python",
   "pygments_lexer": "ipython3",
   "version": "3.8.3"
  }
 },
 "nbformat": 4,
 "nbformat_minor": 4
}
